{
 "cells": [
  {
   "cell_type": "code",
   "execution_count": 1,
   "metadata": {},
   "outputs": [
    {
     "name": "stdout",
     "output_type": "stream",
     "text": [
      "hello world!\n"
     ]
    }
   ],
   "source": [
    "print(\"hello world!\")"
   ]
  },
  {
   "cell_type": "code",
   "execution_count": 2,
   "metadata": {},
   "outputs": [
    {
     "name": "stdout",
     "output_type": "stream",
     "text": [
      "a.txt\t\t   my_config_file.yaml\t     run-multi2.py\n",
      "emnlp2020\t   norm_attentions\t     run-multigpu.py\n",
      "example.py\t   norm-attn-env\t     run-opt.py\n",
      "gpt3.py\t\t   offload_folder\t     templatescsv.csv\n",
      "hello-dist.py\t   opt-30b-attentions.ipynb  templatescsv-old.csv\n",
      "main-dl-logits.py  README.md\t\t     templates.xlsx\n",
      "main-nodl.py\t   requirements.txt\t     test.ipynb\n",
      "main-old.py\t   result\n",
      "main.py\t\t   run-accelerate.py\n"
     ]
    }
   ],
   "source": [
    "!ls"
   ]
  },
  {
   "cell_type": "code",
   "execution_count": null,
   "metadata": {},
   "outputs": [],
   "source": []
  }
 ],
 "metadata": {
  "kernelspec": {
   "display_name": "Python 3 (ipykernel)",
   "language": "python",
   "name": "python3"
  },
  "language_info": {
   "codemirror_mode": {
    "name": "ipython",
    "version": 3
   },
   "file_extension": ".py",
   "mimetype": "text/x-python",
   "name": "python",
   "nbconvert_exporter": "python",
   "pygments_lexer": "ipython3",
   "version": "3.9.12"
  },
  "orig_nbformat": 4,
  "vscode": {
   "interpreter": {
    "hash": "b8cb45b761c3a30ff2975f360d4c558fbed466e70709a0f114303ab0006e1395"
   }
  }
 },
 "nbformat": 4,
 "nbformat_minor": 2
}
